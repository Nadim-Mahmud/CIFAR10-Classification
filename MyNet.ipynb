{
  "cells": [
    {
      "cell_type": "code",
      "execution_count": 12,
      "metadata": {},
      "outputs": [],
      "source": [
        "import matplotlib.pyplot as plt\n",
        "from __future__ import print_function\n",
        "import torch  # import the torch library\n",
        "import torch.nn as nn # use the nn module (class)\n",
        "import torch.nn.functional as F    # use the nn module as function\n",
        "import torch.optim as optim # optimization (i.e., SGD, ada,)\n",
        "import torchvision # load the dataset\n",
        "import torchvision.transforms as transforms # adjust the input image\n",
        "from torchvision.transforms import AutoAugment, AutoAugmentPolicy\n",
        "from tqdm import tqdm\n",
        "import datetime\n",
        "import time # check the processing overhead\n",
        "from torch.utils.data import random_split, DataLoader\n",
        "import os\n",
        "from sklearn.model_selection import StratifiedShuffleSplit\n",
        "import numpy as np\n",
        "from torch.utils.data import Subset"
      ]
    },
    {
      "cell_type": "code",
      "execution_count": 13,
      "metadata": {},
      "outputs": [],
      "source": [
        "class MyNet(nn.Module):\n",
        "    def __init__(self):\n",
        "        super(MyNet, self).__init__()\n",
        "\n",
        "        self.c1 = nn.Conv2d(in_channels = 3, out_channels = 8, kernel_size= 11, stride = 1, padding = 5)\n",
        "        self.c2 = nn.Conv2d(in_channels = 8, out_channels = 16, kernel_size= 7, stride = 1, padding = 3)\n",
        "        self.c3 = nn.Conv2d(in_channels = 16, out_channels = 32, kernel_size= 5, stride = 1, padding = 2)\n",
        "        self.c4 = nn.Conv2d(in_channels = 32, out_channels = 64, kernel_size= 5, stride = 1, padding = 0)\n",
        "        self.c5 = nn.Conv2d(in_channels = 64, out_channels = 128, kernel_size= 5, stride = 1, padding = 0)\n",
        "        self.c6 = nn.Conv2d(in_channels = 128, out_channels = 256, kernel_size= 5, stride = 1, padding = 0)\n",
        "\n",
        "        self.mp1 = nn.MaxPool2d(kernel_size=2, stride=2, padding=0)\n",
        "        self.mp2 = nn.MaxPool2d(kernel_size=2, stride=2, padding=0)\n",
        "\n",
        "        self.F6 = nn.Linear(256, 512)\n",
        "        self.F7 = nn.Linear(512, 10)\n",
        "\n",
        "        self.bn1 = nn.BatchNorm2d(8)\n",
        "        self.bn2 = nn.BatchNorm2d(16)\n",
        "        self.bn3 = nn.BatchNorm2d(32)\n",
        "        self.bn4 = nn.BatchNorm2d(64)\n",
        "        self.bn5 = nn.BatchNorm2d(128)\n",
        "\n",
        "        self.dropout = nn.Dropout(0.5)\n",
        "        self.global_pool = nn.AdaptiveAvgPool2d((1, 1))\n",
        "\n",
        "        self.MyRelu = nn.ReLU()\n",
        "\n",
        "\n",
        "    def forward(self, x):\n",
        "        # Conv Block 1\n",
        "        x = self.bn1(self.c1(x))\n",
        "        x = self.MyRelu(x)\n",
        "\n",
        "        # Conv Block 2\n",
        "        x = self.bn2(self.c2(x))\n",
        "        x = self.MyRelu(x)\n",
        "\n",
        "        # Conv Block 3\n",
        "        x = self.bn3(self.c3(x))\n",
        "        x = self.MyRelu(x)\n",
        "\n",
        "        # Conv Block 4 (no BN)\n",
        "        x = self.c4(x)\n",
        "        x = self.MyRelu(x)\n",
        "\n",
        "        # MaxPool + BN\n",
        "        x = self.mp1(x)\n",
        "        x = self.bn4(x)\n",
        "\n",
        "        # Conv Block 5 (no BN)\n",
        "        x = self.c5(x)\n",
        "        x = self.MyRelu(x)\n",
        "\n",
        "        # MaxPool + BN\n",
        "        x = self.mp2(x)\n",
        "        x = self.bn5(x)\n",
        "\n",
        "        # Final Conv Block\n",
        "        x = self.c6(x)\n",
        "        x = self.MyRelu(x)\n",
        "\n",
        "        # Global Average Pooling\n",
        "        x = self.global_pool(x)\n",
        "\n",
        "        # Flatten\n",
        "        x = torch.flatten(x, 1)\n",
        "\n",
        "        # Dropout + FC\n",
        "        x = self.dropout(x)\n",
        "        x = self.MyRelu(self.F6(x))\n",
        "        x = self.F7(x)\n",
        "\n",
        "        return x  # Raw logits"
      ]
    },
    {
      "cell_type": "code",
      "execution_count": 14,
      "metadata": {
        "colab": {
          "base_uri": "https://localhost:8080/"
        },
        "id": "M5JiIyaZpe7I",
        "outputId": "0c4362a5-3642-4ef4-a5d8-0b77e0772c6c"
      },
      "outputs": [],
      "source": [
        "def data_download_and_preprocess(batch_size, validation_size):\n",
        "\n",
        "    # Preparing for Data\n",
        "    print('==> Preparing data..')\n",
        "\n",
        "    # Training Data augmentation\n",
        "    transform_train = transforms.Compose([\n",
        "        transforms.AutoAugment(policy=AutoAugmentPolicy.CIFAR10),\n",
        "        transforms.ColorJitter(brightness=0.2, contrast=0.2),\n",
        "        transforms.RandomCrop(32, padding=4),\n",
        "        transforms.RandomHorizontalFlip(),\n",
        "        transforms.ToTensor(),\n",
        "        transforms.Normalize((0.4914, 0.4822, 0.4465), (0.2023, 0.1994, 0.2010)),\n",
        "    ])\n",
        "\n",
        "    # Testing Data preparation\n",
        "    transform_test = transforms.Compose([\n",
        "        transforms.ToTensor(),\n",
        "        transforms.Normalize((0.4914, 0.4822, 0.4465), (0.2023, 0.1994, 0.2010)),\n",
        "    ])\n",
        "\n",
        "    # 1. Define full trainset twice (once for transform_train, once for transform_val)\n",
        "    base_trainset = torchvision.datasets.CIFAR10(root='./data', train=True, download=True)\n",
        "    targets = np.array(base_trainset.targets)\n",
        "\n",
        "    # Stratified Split (80% train, 20% val)\n",
        "    sss = StratifiedShuffleSplit(n_splits=1, test_size=validation_size, random_state=42)\n",
        "    train_idx, val_idx = next(sss.split(np.zeros(len(targets)), targets))\n",
        "\n",
        "    # Apply transforms separately\n",
        "    train_data = torchvision.datasets.CIFAR10(root='./data', train=True, transform=transform_train)\n",
        "    val_data = torchvision.datasets.CIFAR10(root='./data', train=True, transform=transform_test)\n",
        "\n",
        "    train_subset = Subset(train_data, train_idx)\n",
        "    val_subset = Subset(val_data, val_idx)\n",
        "\n",
        "    train_loader = DataLoader(train_subset, batch_size=batch_size, shuffle=True)\n",
        "    val_loader = DataLoader(val_subset, batch_size=batch_size, shuffle=False)\n",
        "\n",
        "    #Test set (same as before)\n",
        "    testset = torchvision.datasets.CIFAR10(root='./data', train=False, download=True, transform=transform_test)\n",
        "    test_loader = torch.utils.data.DataLoader(testset, batch_size=100, shuffle=False)\n",
        "\n",
        "    return train_loader, val_loader, test_loader\n",
        "\n",
        "\n",
        "def train(model, device, train_loader, optimizer, epoch):\n",
        "    model.train()\n",
        "    loss_fn = nn.CrossEntropyLoss()\n",
        "    running_loss = 0.0\n",
        "\n",
        "    progress_bar = tqdm(enumerate(train_loader), total=len(train_loader), desc=f\"Epoch {epoch}\")\n",
        "    for batch_idx, (data, target) in progress_bar:\n",
        "        data, target = data.to(device), target.to(device)\n",
        "\n",
        "        output = model(data)\n",
        "        loss = loss_fn(output, target)\n",
        "\n",
        "        optimizer.zero_grad()\n",
        "        loss.backward()\n",
        "        optimizer.step()\n",
        "\n",
        "        running_loss += loss.item()\n",
        "\n",
        "        progress_bar.set_postfix(loss=loss.item())\n",
        "\n",
        "    avg_loss = running_loss / len(train_loader)\n",
        "    print(f\"Train Epoch: {epoch} \\tLoss: {avg_loss:.6f}\")\n",
        "\n",
        "    accuracy = 100. * (output.argmax(dim=1) == target).sum().item() / len(target)\n",
        "\n",
        "    return avg_loss, accuracy\n",
        "\n",
        "def validate(model, device, data_loader, test=False):\n",
        "    model.eval()\n",
        "    loss = 0\n",
        "    correct = 0\n",
        "    with torch.no_grad():\n",
        "        for data, target in data_loader:\n",
        "            data, target = data.to(device), target.to(device)\n",
        "            output = model(data)\n",
        "            loss += F.cross_entropy(output, target, reduction='sum').item()\n",
        "            pred = output.argmax(dim=1, keepdim=True)\n",
        "            correct += pred.eq(target.view_as(pred)).sum().item()\n",
        "\n",
        "    loss /= len(data_loader.dataset)\n",
        "    accuracy = 100. * correct / len(data_loader.dataset)\n",
        "\n",
        "    test_or_val = \"Test\" if test else \"Validation\"\n",
        "\n",
        "    print('{} set: Average loss: {:.4f}, Accuracy: {}/{} ({:.0f}%)\\n'.format(\n",
        "        test_or_val, loss, correct, len(data_loader.dataset), accuracy))\n",
        "\n",
        "    return loss, accuracy\n",
        "\n",
        "def show_loss_fig(train_losses, val_losses):\n",
        "    plt.figure(figsize=(10, 5))\n",
        "    plt.plot(train_losses, label='Train Loss')\n",
        "    plt.plot(val_losses, label='Validation Loss')\n",
        "    plt.xlabel('Epoch')\n",
        "    plt.ylabel('Loss')\n",
        "    plt.title('Train vs Validation Loss')\n",
        "    plt.legend()\n",
        "    plt.grid(True)\n",
        "\n",
        "    dir = \"figures\"\n",
        "    if not os.path.exists(dir):\n",
        "        os.makedirs(dir)\n",
        "\n",
        "    plt.savefig('loss_fig.png')\n",
        "    plt.show()\n",
        "\n",
        "def show_accuracy_fig(train_acc, val_acc):\n",
        "    plt.figure(figsize=(10, 5))\n",
        "    plt.plot(train_acc, label='Train Accuracy')\n",
        "    plt.plot(val_acc, label='Validation Accuracy')\n",
        "    plt.xlabel('Epoch')\n",
        "    plt.ylabel('Accuracy (%)')\n",
        "    plt.title('Train vs Validation Accuracy')\n",
        "    plt.legend()\n",
        "    plt.grid(True)\n",
        "\n",
        "    dir = \"figures\"\n",
        "    if not os.path.exists(dir):\n",
        "        os.makedirs(dir)\n",
        "\n",
        "    plt.savefig('accuracy_fig.png')\n",
        "    plt.show()\n",
        "\n",
        "\n",
        "\n",
        "def main():\n",
        "    time0 = time.time()\n",
        "\n",
        "    # Training settings\n",
        "    batch_size = 128\n",
        "    epochs = 100\n",
        "\n",
        "    if torch.backends.mps.is_available():\n",
        "        device = torch.device(\"mps\")\n",
        "        print(\"Using Apple Silicon MPS backend.\")\n",
        "    else:\n",
        "        device = torch.device(\"cuda\" if torch.cuda.is_available() else \"cpu\")\n",
        "        print(f\"Using device: {device}\")\n",
        "\n",
        "    torch.manual_seed(100)\n",
        "\n",
        "    train_loader, val_loader, test_loader = data_download_and_preprocess(batch_size, 0.2)\n",
        "\n",
        "    #2. model\n",
        "    model = MyNet().to(device)\n",
        "\n",
        "    optimizer = torch.optim.SGD(model.parameters(), lr=0.01, momentum=0.9, weight_decay=5e-4)\n",
        "    # optimizer = optim.Adam(model.parameters(), lr=0.001)\n",
        "    scheduler = torch.optim.lr_scheduler.StepLR(optimizer, step_size=20, gamma=0.5)\n",
        "\n",
        "    train_losses = []\n",
        "    val_losses = []\n",
        "    training_accuracy_list = []\n",
        "    validation_accuracy_list = []\n",
        "\n",
        "    for epoch in range(1, epochs + 1):\n",
        "        train_loss, training_accuracy = train(model, device, train_loader, optimizer, epoch)\n",
        "        val_loss, validation_accuracy = validate(model, device, val_loader)\n",
        "\n",
        "        train_losses.append(train_loss)\n",
        "        val_losses.append(val_loss)\n",
        "        training_accuracy_list.append(training_accuracy)\n",
        "        validation_accuracy_list.append(validation_accuracy)\n",
        "\n",
        "        scheduler.step()\n",
        "\n",
        "\n",
        "\n",
        "    torch.save(model.state_dict(),\"cifar_mynet_final.pt\")\n",
        "\n",
        "    time1 = time.time()\n",
        "    print ('Traning and Testing total excution time is: %s seconds ' % (time1-time0))\n",
        "    validate(model, device, test_loader, test=True)\n",
        "\n",
        "    show_loss_fig(train_losses, val_losses)\n",
        "    show_accuracy_fig(training_accuracy_list, validation_accuracy_list)\n",
        "\n",
        "    print(\"Training complete.\")\n",
        "    print(\"Model saved as cifar_mynet_final.pt\")\n",
        "    print(\"Loss and accuracy plots saved as loss_fig.png and accuracy_fig.png\")"
      ]
    },
    {
      "cell_type": "code",
      "execution_count": 15,
      "metadata": {},
      "outputs": [
        {
          "name": "stdout",
          "output_type": "stream",
          "text": [
            "Using Apple Silicon MPS backend.\n",
            "==> Preparing data..\n"
          ]
        },
        {
          "name": "stderr",
          "output_type": "stream",
          "text": [
            "Epoch 1: 100%|██████████| 313/313 [00:27<00:00, 11.56it/s, loss=1.68]\n"
          ]
        },
        {
          "name": "stdout",
          "output_type": "stream",
          "text": [
            "Train Epoch: 1 \tLoss: 2.003067\n",
            "Validation set: Average loss: 1.5861, Accuracy: 4095/10000 (41%)\n",
            "\n"
          ]
        },
        {
          "name": "stderr",
          "output_type": "stream",
          "text": [
            "Epoch 2: 100%|██████████| 313/313 [00:28<00:00, 11.03it/s, loss=1.76]\n"
          ]
        },
        {
          "name": "stdout",
          "output_type": "stream",
          "text": [
            "Train Epoch: 2 \tLoss: 1.798397\n",
            "Validation set: Average loss: 1.3661, Accuracy: 4990/10000 (50%)\n",
            "\n"
          ]
        },
        {
          "name": "stderr",
          "output_type": "stream",
          "text": [
            "Epoch 3: 100%|██████████| 313/313 [00:32<00:00,  9.59it/s, loss=1.83]\n"
          ]
        },
        {
          "name": "stdout",
          "output_type": "stream",
          "text": [
            "Train Epoch: 3 \tLoss: 1.657356\n",
            "Validation set: Average loss: 1.2406, Accuracy: 5418/10000 (54%)\n",
            "\n"
          ]
        },
        {
          "name": "stderr",
          "output_type": "stream",
          "text": [
            "Epoch 4: 100%|██████████| 313/313 [00:35<00:00,  8.85it/s, loss=1.57]\n"
          ]
        },
        {
          "name": "stdout",
          "output_type": "stream",
          "text": [
            "Train Epoch: 4 \tLoss: 1.531293\n",
            "Validation set: Average loss: 1.1124, Accuracy: 5945/10000 (59%)\n",
            "\n"
          ]
        },
        {
          "name": "stderr",
          "output_type": "stream",
          "text": [
            "Epoch 5: 100%|██████████| 313/313 [00:34<00:00,  9.15it/s, loss=1.24]\n"
          ]
        },
        {
          "name": "stdout",
          "output_type": "stream",
          "text": [
            "Train Epoch: 5 \tLoss: 1.430753\n",
            "Validation set: Average loss: 1.0459, Accuracy: 6296/10000 (63%)\n",
            "\n"
          ]
        },
        {
          "name": "stderr",
          "output_type": "stream",
          "text": [
            "Epoch 6: 100%|██████████| 313/313 [00:30<00:00, 10.10it/s, loss=1.14]\n"
          ]
        },
        {
          "name": "stdout",
          "output_type": "stream",
          "text": [
            "Train Epoch: 6 \tLoss: 1.345649\n",
            "Validation set: Average loss: 0.9522, Accuracy: 6506/10000 (65%)\n",
            "\n"
          ]
        },
        {
          "name": "stderr",
          "output_type": "stream",
          "text": [
            "Epoch 7: 100%|██████████| 313/313 [00:34<00:00,  8.95it/s, loss=1.3] \n"
          ]
        },
        {
          "name": "stdout",
          "output_type": "stream",
          "text": [
            "Train Epoch: 7 \tLoss: 1.262169\n",
            "Validation set: Average loss: 0.8759, Accuracy: 6841/10000 (68%)\n",
            "\n"
          ]
        },
        {
          "name": "stderr",
          "output_type": "stream",
          "text": [
            "Epoch 8: 100%|██████████| 313/313 [00:39<00:00,  8.01it/s, loss=1.32] \n"
          ]
        },
        {
          "name": "stdout",
          "output_type": "stream",
          "text": [
            "Train Epoch: 8 \tLoss: 1.210838\n",
            "Validation set: Average loss: 0.8509, Accuracy: 6990/10000 (70%)\n",
            "\n"
          ]
        },
        {
          "name": "stderr",
          "output_type": "stream",
          "text": [
            "Epoch 9: 100%|██████████| 313/313 [00:34<00:00,  9.12it/s, loss=1.29] \n"
          ]
        },
        {
          "name": "stdout",
          "output_type": "stream",
          "text": [
            "Train Epoch: 9 \tLoss: 1.163474\n",
            "Validation set: Average loss: 0.7781, Accuracy: 7301/10000 (73%)\n",
            "\n"
          ]
        },
        {
          "name": "stderr",
          "output_type": "stream",
          "text": [
            "Epoch 10: 100%|██████████| 313/313 [00:37<00:00,  8.34it/s, loss=1.2]  \n"
          ]
        },
        {
          "name": "stdout",
          "output_type": "stream",
          "text": [
            "Train Epoch: 10 \tLoss: 1.106606\n",
            "Validation set: Average loss: 0.7663, Accuracy: 7328/10000 (73%)\n",
            "\n"
          ]
        },
        {
          "name": "stderr",
          "output_type": "stream",
          "text": [
            "Epoch 11: 100%|██████████| 313/313 [00:36<00:00,  8.57it/s, loss=1.01] \n"
          ]
        },
        {
          "name": "stdout",
          "output_type": "stream",
          "text": [
            "Train Epoch: 11 \tLoss: 1.067987\n",
            "Validation set: Average loss: 0.7714, Accuracy: 7331/10000 (73%)\n",
            "\n"
          ]
        },
        {
          "name": "stderr",
          "output_type": "stream",
          "text": [
            "Epoch 12: 100%|██████████| 313/313 [00:35<00:00,  8.89it/s, loss=1.27] \n"
          ]
        },
        {
          "name": "stdout",
          "output_type": "stream",
          "text": [
            "Train Epoch: 12 \tLoss: 1.034488\n",
            "Validation set: Average loss: 0.7704, Accuracy: 7405/10000 (74%)\n",
            "\n"
          ]
        },
        {
          "name": "stderr",
          "output_type": "stream",
          "text": [
            "Epoch 13: 100%|██████████| 313/313 [00:34<00:00,  9.19it/s, loss=1.11] \n"
          ]
        },
        {
          "name": "stdout",
          "output_type": "stream",
          "text": [
            "Train Epoch: 13 \tLoss: 1.009110\n",
            "Validation set: Average loss: 0.6806, Accuracy: 7603/10000 (76%)\n",
            "\n"
          ]
        },
        {
          "name": "stderr",
          "output_type": "stream",
          "text": [
            "Epoch 14: 100%|██████████| 313/313 [00:34<00:00,  8.99it/s, loss=0.91] \n"
          ]
        },
        {
          "name": "stdout",
          "output_type": "stream",
          "text": [
            "Train Epoch: 14 \tLoss: 0.983228\n",
            "Validation set: Average loss: 0.6628, Accuracy: 7671/10000 (77%)\n",
            "\n"
          ]
        },
        {
          "name": "stderr",
          "output_type": "stream",
          "text": [
            "Epoch 15: 100%|██████████| 313/313 [00:37<00:00,  8.34it/s, loss=0.938]\n"
          ]
        },
        {
          "name": "stdout",
          "output_type": "stream",
          "text": [
            "Train Epoch: 15 \tLoss: 0.957911\n",
            "Validation set: Average loss: 0.6400, Accuracy: 7763/10000 (78%)\n",
            "\n"
          ]
        },
        {
          "name": "stderr",
          "output_type": "stream",
          "text": [
            "Epoch 16: 100%|██████████| 313/313 [00:35<00:00,  8.85it/s, loss=0.772]\n"
          ]
        },
        {
          "name": "stdout",
          "output_type": "stream",
          "text": [
            "Train Epoch: 16 \tLoss: 0.929673\n",
            "Validation set: Average loss: 0.6493, Accuracy: 7719/10000 (77%)\n",
            "\n"
          ]
        },
        {
          "name": "stderr",
          "output_type": "stream",
          "text": [
            "Epoch 17: 100%|██████████| 313/313 [00:34<00:00,  9.16it/s, loss=0.835]\n"
          ]
        },
        {
          "name": "stdout",
          "output_type": "stream",
          "text": [
            "Train Epoch: 17 \tLoss: 0.910939\n",
            "Validation set: Average loss: 0.6301, Accuracy: 7829/10000 (78%)\n",
            "\n"
          ]
        },
        {
          "name": "stderr",
          "output_type": "stream",
          "text": [
            "Epoch 18: 100%|██████████| 313/313 [00:36<00:00,  8.51it/s, loss=0.747]\n"
          ]
        },
        {
          "name": "stdout",
          "output_type": "stream",
          "text": [
            "Train Epoch: 18 \tLoss: 0.883651\n",
            "Validation set: Average loss: 0.5998, Accuracy: 7967/10000 (80%)\n",
            "\n"
          ]
        },
        {
          "name": "stderr",
          "output_type": "stream",
          "text": [
            "Epoch 19: 100%|██████████| 313/313 [00:41<00:00,  7.58it/s, loss=0.932]\n"
          ]
        },
        {
          "name": "stdout",
          "output_type": "stream",
          "text": [
            "Train Epoch: 19 \tLoss: 0.883213\n",
            "Validation set: Average loss: 0.5926, Accuracy: 7997/10000 (80%)\n",
            "\n"
          ]
        },
        {
          "name": "stderr",
          "output_type": "stream",
          "text": [
            "Epoch 20: 100%|██████████| 313/313 [00:32<00:00,  9.56it/s, loss=0.852]\n"
          ]
        },
        {
          "name": "stdout",
          "output_type": "stream",
          "text": [
            "Train Epoch: 20 \tLoss: 0.869574\n",
            "Validation set: Average loss: 0.5561, Accuracy: 8067/10000 (81%)\n",
            "\n"
          ]
        },
        {
          "name": "stderr",
          "output_type": "stream",
          "text": [
            "Epoch 21: 100%|██████████| 313/313 [00:31<00:00,  9.87it/s, loss=0.653]\n"
          ]
        },
        {
          "name": "stdout",
          "output_type": "stream",
          "text": [
            "Train Epoch: 21 \tLoss: 0.807665\n",
            "Validation set: Average loss: 0.5325, Accuracy: 8210/10000 (82%)\n",
            "\n"
          ]
        },
        {
          "name": "stderr",
          "output_type": "stream",
          "text": [
            "Epoch 22: 100%|██████████| 313/313 [00:31<00:00,  9.94it/s, loss=0.819]\n"
          ]
        },
        {
          "name": "stdout",
          "output_type": "stream",
          "text": [
            "Train Epoch: 22 \tLoss: 0.786115\n",
            "Validation set: Average loss: 0.5116, Accuracy: 8250/10000 (82%)\n",
            "\n"
          ]
        },
        {
          "name": "stderr",
          "output_type": "stream",
          "text": [
            "Epoch 23: 100%|██████████| 313/313 [00:31<00:00,  9.85it/s, loss=0.655]\n"
          ]
        },
        {
          "name": "stdout",
          "output_type": "stream",
          "text": [
            "Train Epoch: 23 \tLoss: 0.764783\n",
            "Validation set: Average loss: 0.5136, Accuracy: 8259/10000 (83%)\n",
            "\n"
          ]
        },
        {
          "name": "stderr",
          "output_type": "stream",
          "text": [
            "Epoch 24: 100%|██████████| 313/313 [00:31<00:00,  9.89it/s, loss=0.738]\n"
          ]
        },
        {
          "name": "stdout",
          "output_type": "stream",
          "text": [
            "Train Epoch: 24 \tLoss: 0.757058\n",
            "Validation set: Average loss: 0.5216, Accuracy: 8243/10000 (82%)\n",
            "\n"
          ]
        },
        {
          "name": "stderr",
          "output_type": "stream",
          "text": [
            "Epoch 25: 100%|██████████| 313/313 [00:31<00:00,  9.79it/s, loss=0.872]\n"
          ]
        },
        {
          "name": "stdout",
          "output_type": "stream",
          "text": [
            "Train Epoch: 25 \tLoss: 0.758889\n",
            "Validation set: Average loss: 0.5037, Accuracy: 8273/10000 (83%)\n",
            "\n"
          ]
        },
        {
          "name": "stderr",
          "output_type": "stream",
          "text": [
            "Epoch 26: 100%|██████████| 313/313 [00:32<00:00,  9.75it/s, loss=0.826]\n"
          ]
        },
        {
          "name": "stdout",
          "output_type": "stream",
          "text": [
            "Train Epoch: 26 \tLoss: 0.749815\n",
            "Validation set: Average loss: 0.4874, Accuracy: 8298/10000 (83%)\n",
            "\n"
          ]
        },
        {
          "name": "stderr",
          "output_type": "stream",
          "text": [
            "Epoch 27: 100%|██████████| 313/313 [00:32<00:00,  9.75it/s, loss=0.695]\n"
          ]
        },
        {
          "name": "stdout",
          "output_type": "stream",
          "text": [
            "Train Epoch: 27 \tLoss: 0.737355\n",
            "Validation set: Average loss: 0.4980, Accuracy: 8311/10000 (83%)\n",
            "\n"
          ]
        },
        {
          "name": "stderr",
          "output_type": "stream",
          "text": [
            "Epoch 28: 100%|██████████| 313/313 [00:32<00:00,  9.63it/s, loss=0.817]\n"
          ]
        },
        {
          "name": "stdout",
          "output_type": "stream",
          "text": [
            "Train Epoch: 28 \tLoss: 0.736310\n",
            "Validation set: Average loss: 0.4834, Accuracy: 8343/10000 (83%)\n",
            "\n"
          ]
        },
        {
          "name": "stderr",
          "output_type": "stream",
          "text": [
            "Epoch 29: 100%|██████████| 313/313 [00:31<00:00,  9.85it/s, loss=0.817]\n"
          ]
        },
        {
          "name": "stdout",
          "output_type": "stream",
          "text": [
            "Train Epoch: 29 \tLoss: 0.727686\n",
            "Validation set: Average loss: 0.4990, Accuracy: 8290/10000 (83%)\n",
            "\n"
          ]
        },
        {
          "name": "stderr",
          "output_type": "stream",
          "text": [
            "Epoch 30: 100%|██████████| 313/313 [00:32<00:00,  9.59it/s, loss=0.665]\n"
          ]
        },
        {
          "name": "stdout",
          "output_type": "stream",
          "text": [
            "Train Epoch: 30 \tLoss: 0.721673\n",
            "Validation set: Average loss: 0.4802, Accuracy: 8341/10000 (83%)\n",
            "\n"
          ]
        },
        {
          "name": "stderr",
          "output_type": "stream",
          "text": [
            "Epoch 31: 100%|██████████| 313/313 [00:32<00:00,  9.66it/s, loss=0.548]\n"
          ]
        },
        {
          "name": "stdout",
          "output_type": "stream",
          "text": [
            "Train Epoch: 31 \tLoss: 0.717008\n",
            "Validation set: Average loss: 0.4717, Accuracy: 8379/10000 (84%)\n",
            "\n"
          ]
        },
        {
          "name": "stderr",
          "output_type": "stream",
          "text": [
            "Epoch 32: 100%|██████████| 313/313 [00:33<00:00,  9.28it/s, loss=0.708]\n"
          ]
        },
        {
          "name": "stdout",
          "output_type": "stream",
          "text": [
            "Train Epoch: 32 \tLoss: 0.717806\n",
            "Validation set: Average loss: 0.4942, Accuracy: 8319/10000 (83%)\n",
            "\n"
          ]
        },
        {
          "name": "stderr",
          "output_type": "stream",
          "text": [
            "Epoch 33: 100%|██████████| 313/313 [00:35<00:00,  8.88it/s, loss=0.757]\n"
          ]
        },
        {
          "name": "stdout",
          "output_type": "stream",
          "text": [
            "Train Epoch: 33 \tLoss: 0.713436\n",
            "Validation set: Average loss: 0.4739, Accuracy: 8371/10000 (84%)\n",
            "\n"
          ]
        },
        {
          "name": "stderr",
          "output_type": "stream",
          "text": [
            "Epoch 34: 100%|██████████| 313/313 [00:33<00:00,  9.28it/s, loss=0.741]\n"
          ]
        },
        {
          "name": "stdout",
          "output_type": "stream",
          "text": [
            "Train Epoch: 34 \tLoss: 0.704329\n",
            "Validation set: Average loss: 0.4597, Accuracy: 8390/10000 (84%)\n",
            "\n"
          ]
        },
        {
          "name": "stderr",
          "output_type": "stream",
          "text": [
            "Epoch 35: 100%|██████████| 313/313 [00:32<00:00,  9.75it/s, loss=0.567]\n"
          ]
        },
        {
          "name": "stdout",
          "output_type": "stream",
          "text": [
            "Train Epoch: 35 \tLoss: 0.700340\n",
            "Validation set: Average loss: 0.4554, Accuracy: 8457/10000 (85%)\n",
            "\n"
          ]
        },
        {
          "name": "stderr",
          "output_type": "stream",
          "text": [
            "Epoch 36: 100%|██████████| 313/313 [00:32<00:00,  9.55it/s, loss=0.699]\n"
          ]
        },
        {
          "name": "stdout",
          "output_type": "stream",
          "text": [
            "Train Epoch: 36 \tLoss: 0.689536\n",
            "Validation set: Average loss: 0.4549, Accuracy: 8434/10000 (84%)\n",
            "\n"
          ]
        },
        {
          "name": "stderr",
          "output_type": "stream",
          "text": [
            "Epoch 37: 100%|██████████| 313/313 [00:33<00:00,  9.26it/s, loss=0.683]\n"
          ]
        },
        {
          "name": "stdout",
          "output_type": "stream",
          "text": [
            "Train Epoch: 37 \tLoss: 0.687291\n",
            "Validation set: Average loss: 0.4735, Accuracy: 8401/10000 (84%)\n",
            "\n"
          ]
        },
        {
          "name": "stderr",
          "output_type": "stream",
          "text": [
            "Epoch 38: 100%|██████████| 313/313 [00:32<00:00,  9.60it/s, loss=0.775]\n"
          ]
        },
        {
          "name": "stdout",
          "output_type": "stream",
          "text": [
            "Train Epoch: 38 \tLoss: 0.686586\n",
            "Validation set: Average loss: 0.4731, Accuracy: 8380/10000 (84%)\n",
            "\n"
          ]
        },
        {
          "name": "stderr",
          "output_type": "stream",
          "text": [
            "Epoch 39: 100%|██████████| 313/313 [00:32<00:00,  9.62it/s, loss=0.721]\n"
          ]
        },
        {
          "name": "stdout",
          "output_type": "stream",
          "text": [
            "Train Epoch: 39 \tLoss: 0.676980\n",
            "Validation set: Average loss: 0.4489, Accuracy: 8452/10000 (85%)\n",
            "\n"
          ]
        },
        {
          "name": "stderr",
          "output_type": "stream",
          "text": [
            "Epoch 40: 100%|██████████| 313/313 [00:32<00:00,  9.56it/s, loss=0.538]\n"
          ]
        },
        {
          "name": "stdout",
          "output_type": "stream",
          "text": [
            "Train Epoch: 40 \tLoss: 0.675438\n",
            "Validation set: Average loss: 0.4413, Accuracy: 8489/10000 (85%)\n",
            "\n"
          ]
        },
        {
          "name": "stderr",
          "output_type": "stream",
          "text": [
            "Epoch 41: 100%|██████████| 313/313 [00:32<00:00,  9.50it/s, loss=0.672]\n"
          ]
        },
        {
          "name": "stdout",
          "output_type": "stream",
          "text": [
            "Train Epoch: 41 \tLoss: 0.648326\n",
            "Validation set: Average loss: 0.4271, Accuracy: 8549/10000 (85%)\n",
            "\n"
          ]
        },
        {
          "name": "stderr",
          "output_type": "stream",
          "text": [
            "Epoch 42: 100%|██████████| 313/313 [00:33<00:00,  9.39it/s, loss=0.486]\n"
          ]
        },
        {
          "name": "stdout",
          "output_type": "stream",
          "text": [
            "Train Epoch: 42 \tLoss: 0.638788\n",
            "Validation set: Average loss: 0.4322, Accuracy: 8508/10000 (85%)\n",
            "\n"
          ]
        },
        {
          "name": "stderr",
          "output_type": "stream",
          "text": [
            "Epoch 43: 100%|██████████| 313/313 [00:33<00:00,  9.34it/s, loss=0.645]\n"
          ]
        },
        {
          "name": "stdout",
          "output_type": "stream",
          "text": [
            "Train Epoch: 43 \tLoss: 0.627479\n",
            "Validation set: Average loss: 0.4187, Accuracy: 8586/10000 (86%)\n",
            "\n"
          ]
        },
        {
          "name": "stderr",
          "output_type": "stream",
          "text": [
            "Epoch 44: 100%|██████████| 313/313 [00:32<00:00,  9.61it/s, loss=0.539]\n"
          ]
        },
        {
          "name": "stdout",
          "output_type": "stream",
          "text": [
            "Train Epoch: 44 \tLoss: 0.627678\n",
            "Validation set: Average loss: 0.4290, Accuracy: 8548/10000 (85%)\n",
            "\n"
          ]
        },
        {
          "name": "stderr",
          "output_type": "stream",
          "text": [
            "Epoch 45: 100%|██████████| 313/313 [00:32<00:00,  9.53it/s, loss=0.42] \n"
          ]
        },
        {
          "name": "stdout",
          "output_type": "stream",
          "text": [
            "Train Epoch: 45 \tLoss: 0.623537\n",
            "Validation set: Average loss: 0.4165, Accuracy: 8569/10000 (86%)\n",
            "\n"
          ]
        },
        {
          "name": "stderr",
          "output_type": "stream",
          "text": [
            "Epoch 46: 100%|██████████| 313/313 [00:32<00:00,  9.63it/s, loss=0.761]\n"
          ]
        },
        {
          "name": "stdout",
          "output_type": "stream",
          "text": [
            "Train Epoch: 46 \tLoss: 0.614715\n",
            "Validation set: Average loss: 0.4196, Accuracy: 8582/10000 (86%)\n",
            "\n"
          ]
        },
        {
          "name": "stderr",
          "output_type": "stream",
          "text": [
            "Epoch 47: 100%|██████████| 313/313 [00:33<00:00,  9.44it/s, loss=0.58] \n"
          ]
        },
        {
          "name": "stdout",
          "output_type": "stream",
          "text": [
            "Train Epoch: 47 \tLoss: 0.606112\n",
            "Validation set: Average loss: 0.4193, Accuracy: 8562/10000 (86%)\n",
            "\n"
          ]
        },
        {
          "name": "stderr",
          "output_type": "stream",
          "text": [
            "Epoch 48: 100%|██████████| 313/313 [00:32<00:00,  9.62it/s, loss=0.453]\n"
          ]
        },
        {
          "name": "stdout",
          "output_type": "stream",
          "text": [
            "Train Epoch: 48 \tLoss: 0.607322\n",
            "Validation set: Average loss: 0.4110, Accuracy: 8580/10000 (86%)\n",
            "\n"
          ]
        },
        {
          "name": "stderr",
          "output_type": "stream",
          "text": [
            "Epoch 49: 100%|██████████| 313/313 [00:33<00:00,  9.39it/s, loss=0.714]\n"
          ]
        },
        {
          "name": "stdout",
          "output_type": "stream",
          "text": [
            "Train Epoch: 49 \tLoss: 0.609244\n",
            "Validation set: Average loss: 0.4234, Accuracy: 8580/10000 (86%)\n",
            "\n"
          ]
        },
        {
          "name": "stderr",
          "output_type": "stream",
          "text": [
            "Epoch 50: 100%|██████████| 313/313 [00:33<00:00,  9.45it/s, loss=0.674]\n"
          ]
        },
        {
          "name": "stdout",
          "output_type": "stream",
          "text": [
            "Train Epoch: 50 \tLoss: 0.606503\n",
            "Validation set: Average loss: 0.4135, Accuracy: 8587/10000 (86%)\n",
            "\n"
          ]
        },
        {
          "name": "stderr",
          "output_type": "stream",
          "text": [
            "Epoch 51: 100%|██████████| 313/313 [00:33<00:00,  9.44it/s, loss=0.881]\n"
          ]
        },
        {
          "name": "stdout",
          "output_type": "stream",
          "text": [
            "Train Epoch: 51 \tLoss: 0.603034\n",
            "Validation set: Average loss: 0.4081, Accuracy: 8598/10000 (86%)\n",
            "\n"
          ]
        },
        {
          "name": "stderr",
          "output_type": "stream",
          "text": [
            "Epoch 52: 100%|██████████| 313/313 [00:33<00:00,  9.44it/s, loss=0.673]\n"
          ]
        },
        {
          "name": "stdout",
          "output_type": "stream",
          "text": [
            "Train Epoch: 52 \tLoss: 0.601459\n",
            "Validation set: Average loss: 0.4010, Accuracy: 8662/10000 (87%)\n",
            "\n"
          ]
        },
        {
          "name": "stderr",
          "output_type": "stream",
          "text": [
            "Epoch 53: 100%|██████████| 313/313 [00:33<00:00,  9.47it/s, loss=0.797]\n"
          ]
        },
        {
          "name": "stdout",
          "output_type": "stream",
          "text": [
            "Train Epoch: 53 \tLoss: 0.604564\n",
            "Validation set: Average loss: 0.4067, Accuracy: 8624/10000 (86%)\n",
            "\n"
          ]
        },
        {
          "name": "stderr",
          "output_type": "stream",
          "text": [
            "Epoch 54: 100%|██████████| 313/313 [00:33<00:00,  9.24it/s, loss=0.736]\n"
          ]
        },
        {
          "name": "stdout",
          "output_type": "stream",
          "text": [
            "Train Epoch: 54 \tLoss: 0.596485\n",
            "Validation set: Average loss: 0.4212, Accuracy: 8577/10000 (86%)\n",
            "\n"
          ]
        },
        {
          "name": "stderr",
          "output_type": "stream",
          "text": [
            "Epoch 55: 100%|██████████| 313/313 [00:33<00:00,  9.35it/s, loss=0.731]\n"
          ]
        },
        {
          "name": "stdout",
          "output_type": "stream",
          "text": [
            "Train Epoch: 55 \tLoss: 0.596594\n",
            "Validation set: Average loss: 0.4008, Accuracy: 8649/10000 (86%)\n",
            "\n"
          ]
        },
        {
          "name": "stderr",
          "output_type": "stream",
          "text": [
            "Epoch 56: 100%|██████████| 313/313 [00:34<00:00,  9.09it/s, loss=0.727]\n"
          ]
        },
        {
          "name": "stdout",
          "output_type": "stream",
          "text": [
            "Train Epoch: 56 \tLoss: 0.596419\n",
            "Validation set: Average loss: 0.4018, Accuracy: 8618/10000 (86%)\n",
            "\n"
          ]
        },
        {
          "name": "stderr",
          "output_type": "stream",
          "text": [
            "Epoch 57: 100%|██████████| 313/313 [00:33<00:00,  9.42it/s, loss=0.395]\n"
          ]
        },
        {
          "name": "stdout",
          "output_type": "stream",
          "text": [
            "Train Epoch: 57 \tLoss: 0.591927\n",
            "Validation set: Average loss: 0.4050, Accuracy: 8617/10000 (86%)\n",
            "\n"
          ]
        },
        {
          "name": "stderr",
          "output_type": "stream",
          "text": [
            "Epoch 58: 100%|██████████| 313/313 [00:33<00:00,  9.42it/s, loss=0.59] \n"
          ]
        },
        {
          "name": "stdout",
          "output_type": "stream",
          "text": [
            "Train Epoch: 58 \tLoss: 0.589746\n",
            "Validation set: Average loss: 0.4063, Accuracy: 8627/10000 (86%)\n",
            "\n"
          ]
        },
        {
          "name": "stderr",
          "output_type": "stream",
          "text": [
            "Epoch 59: 100%|██████████| 313/313 [00:33<00:00,  9.47it/s, loss=0.674]\n"
          ]
        },
        {
          "name": "stdout",
          "output_type": "stream",
          "text": [
            "Train Epoch: 59 \tLoss: 0.585337\n",
            "Validation set: Average loss: 0.3984, Accuracy: 8621/10000 (86%)\n",
            "\n"
          ]
        },
        {
          "name": "stderr",
          "output_type": "stream",
          "text": [
            "Epoch 60: 100%|██████████| 313/313 [00:33<00:00,  9.29it/s, loss=0.675]\n"
          ]
        },
        {
          "name": "stdout",
          "output_type": "stream",
          "text": [
            "Train Epoch: 60 \tLoss: 0.588540\n",
            "Validation set: Average loss: 0.4088, Accuracy: 8644/10000 (86%)\n",
            "\n"
          ]
        },
        {
          "name": "stderr",
          "output_type": "stream",
          "text": [
            "Epoch 61: 100%|██████████| 313/313 [00:33<00:00,  9.44it/s, loss=0.692]\n"
          ]
        },
        {
          "name": "stdout",
          "output_type": "stream",
          "text": [
            "Train Epoch: 61 \tLoss: 0.569323\n",
            "Validation set: Average loss: 0.3846, Accuracy: 8705/10000 (87%)\n",
            "\n"
          ]
        },
        {
          "name": "stderr",
          "output_type": "stream",
          "text": [
            "Epoch 62: 100%|██████████| 313/313 [00:33<00:00,  9.24it/s, loss=0.428]\n"
          ]
        },
        {
          "name": "stdout",
          "output_type": "stream",
          "text": [
            "Train Epoch: 62 \tLoss: 0.558202\n",
            "Validation set: Average loss: 0.3863, Accuracy: 8692/10000 (87%)\n",
            "\n"
          ]
        },
        {
          "name": "stderr",
          "output_type": "stream",
          "text": [
            "Epoch 63: 100%|██████████| 313/313 [00:33<00:00,  9.38it/s, loss=0.777]\n"
          ]
        },
        {
          "name": "stdout",
          "output_type": "stream",
          "text": [
            "Train Epoch: 63 \tLoss: 0.554920\n",
            "Validation set: Average loss: 0.3865, Accuracy: 8688/10000 (87%)\n",
            "\n"
          ]
        },
        {
          "name": "stderr",
          "output_type": "stream",
          "text": [
            "Epoch 64: 100%|██████████| 313/313 [00:33<00:00,  9.27it/s, loss=0.524]\n"
          ]
        },
        {
          "name": "stdout",
          "output_type": "stream",
          "text": [
            "Train Epoch: 64 \tLoss: 0.550715\n",
            "Validation set: Average loss: 0.3837, Accuracy: 8708/10000 (87%)\n",
            "\n"
          ]
        },
        {
          "name": "stderr",
          "output_type": "stream",
          "text": [
            "Epoch 65: 100%|██████████| 313/313 [00:33<00:00,  9.38it/s, loss=0.545]\n"
          ]
        },
        {
          "name": "stdout",
          "output_type": "stream",
          "text": [
            "Train Epoch: 65 \tLoss: 0.555669\n",
            "Validation set: Average loss: 0.3841, Accuracy: 8744/10000 (87%)\n",
            "\n"
          ]
        },
        {
          "name": "stderr",
          "output_type": "stream",
          "text": [
            "Epoch 66: 100%|██████████| 313/313 [00:33<00:00,  9.34it/s, loss=0.622]\n"
          ]
        },
        {
          "name": "stdout",
          "output_type": "stream",
          "text": [
            "Train Epoch: 66 \tLoss: 0.551867\n",
            "Validation set: Average loss: 0.3850, Accuracy: 8714/10000 (87%)\n",
            "\n"
          ]
        },
        {
          "name": "stderr",
          "output_type": "stream",
          "text": [
            "Epoch 67: 100%|██████████| 313/313 [00:33<00:00,  9.26it/s, loss=0.727]\n"
          ]
        },
        {
          "name": "stdout",
          "output_type": "stream",
          "text": [
            "Train Epoch: 67 \tLoss: 0.550000\n",
            "Validation set: Average loss: 0.3901, Accuracy: 8698/10000 (87%)\n",
            "\n"
          ]
        },
        {
          "name": "stderr",
          "output_type": "stream",
          "text": [
            "Epoch 68: 100%|██████████| 313/313 [00:33<00:00,  9.34it/s, loss=0.298]\n"
          ]
        },
        {
          "name": "stdout",
          "output_type": "stream",
          "text": [
            "Train Epoch: 68 \tLoss: 0.542717\n",
            "Validation set: Average loss: 0.3881, Accuracy: 8715/10000 (87%)\n",
            "\n"
          ]
        },
        {
          "name": "stderr",
          "output_type": "stream",
          "text": [
            "Epoch 69: 100%|██████████| 313/313 [00:33<00:00,  9.29it/s, loss=0.691]\n"
          ]
        },
        {
          "name": "stdout",
          "output_type": "stream",
          "text": [
            "Train Epoch: 69 \tLoss: 0.552813\n",
            "Validation set: Average loss: 0.3856, Accuracy: 8722/10000 (87%)\n",
            "\n"
          ]
        },
        {
          "name": "stderr",
          "output_type": "stream",
          "text": [
            "Epoch 70: 100%|██████████| 313/313 [00:33<00:00,  9.33it/s, loss=0.554]\n"
          ]
        },
        {
          "name": "stdout",
          "output_type": "stream",
          "text": [
            "Train Epoch: 70 \tLoss: 0.546587\n",
            "Validation set: Average loss: 0.3843, Accuracy: 8705/10000 (87%)\n",
            "\n"
          ]
        },
        {
          "name": "stderr",
          "output_type": "stream",
          "text": [
            "Epoch 71: 100%|██████████| 313/313 [00:33<00:00,  9.22it/s, loss=0.402]\n"
          ]
        },
        {
          "name": "stdout",
          "output_type": "stream",
          "text": [
            "Train Epoch: 71 \tLoss: 0.550467\n",
            "Validation set: Average loss: 0.3861, Accuracy: 8708/10000 (87%)\n",
            "\n"
          ]
        },
        {
          "name": "stderr",
          "output_type": "stream",
          "text": [
            "Epoch 72: 100%|██████████| 313/313 [00:33<00:00,  9.42it/s, loss=0.68] \n"
          ]
        },
        {
          "name": "stdout",
          "output_type": "stream",
          "text": [
            "Train Epoch: 72 \tLoss: 0.536162\n",
            "Validation set: Average loss: 0.3878, Accuracy: 8716/10000 (87%)\n",
            "\n"
          ]
        },
        {
          "name": "stderr",
          "output_type": "stream",
          "text": [
            "Epoch 73: 100%|██████████| 313/313 [00:33<00:00,  9.27it/s, loss=0.452]\n"
          ]
        },
        {
          "name": "stdout",
          "output_type": "stream",
          "text": [
            "Train Epoch: 73 \tLoss: 0.535941\n",
            "Validation set: Average loss: 0.3843, Accuracy: 8732/10000 (87%)\n",
            "\n"
          ]
        },
        {
          "name": "stderr",
          "output_type": "stream",
          "text": [
            "Epoch 74: 100%|██████████| 313/313 [00:32<00:00,  9.53it/s, loss=0.483]\n"
          ]
        },
        {
          "name": "stdout",
          "output_type": "stream",
          "text": [
            "Train Epoch: 74 \tLoss: 0.540336\n",
            "Validation set: Average loss: 0.3925, Accuracy: 8693/10000 (87%)\n",
            "\n"
          ]
        },
        {
          "name": "stderr",
          "output_type": "stream",
          "text": [
            "Epoch 75: 100%|██████████| 313/313 [00:34<00:00,  8.95it/s, loss=0.564]\n"
          ]
        },
        {
          "name": "stdout",
          "output_type": "stream",
          "text": [
            "Train Epoch: 75 \tLoss: 0.537069\n",
            "Validation set: Average loss: 0.3811, Accuracy: 8726/10000 (87%)\n",
            "\n"
          ]
        },
        {
          "name": "stderr",
          "output_type": "stream",
          "text": [
            "Epoch 76: 100%|██████████| 313/313 [00:33<00:00,  9.39it/s, loss=0.598]\n"
          ]
        },
        {
          "name": "stdout",
          "output_type": "stream",
          "text": [
            "Train Epoch: 76 \tLoss: 0.535710\n",
            "Validation set: Average loss: 0.3908, Accuracy: 8685/10000 (87%)\n",
            "\n"
          ]
        },
        {
          "name": "stderr",
          "output_type": "stream",
          "text": [
            "Epoch 77: 100%|██████████| 313/313 [00:35<00:00,  8.72it/s, loss=0.557]\n"
          ]
        },
        {
          "name": "stdout",
          "output_type": "stream",
          "text": [
            "Train Epoch: 77 \tLoss: 0.538411\n",
            "Validation set: Average loss: 0.3835, Accuracy: 8735/10000 (87%)\n",
            "\n"
          ]
        },
        {
          "name": "stderr",
          "output_type": "stream",
          "text": [
            "Epoch 78: 100%|██████████| 313/313 [00:33<00:00,  9.31it/s, loss=0.49] \n"
          ]
        },
        {
          "name": "stdout",
          "output_type": "stream",
          "text": [
            "Train Epoch: 78 \tLoss: 0.541091\n",
            "Validation set: Average loss: 0.3811, Accuracy: 8738/10000 (87%)\n",
            "\n"
          ]
        },
        {
          "name": "stderr",
          "output_type": "stream",
          "text": [
            "Epoch 79: 100%|██████████| 313/313 [00:33<00:00,  9.24it/s, loss=0.492]\n"
          ]
        },
        {
          "name": "stdout",
          "output_type": "stream",
          "text": [
            "Train Epoch: 79 \tLoss: 0.531180\n",
            "Validation set: Average loss: 0.3874, Accuracy: 8702/10000 (87%)\n",
            "\n"
          ]
        },
        {
          "name": "stderr",
          "output_type": "stream",
          "text": [
            "Epoch 80: 100%|██████████| 313/313 [00:33<00:00,  9.47it/s, loss=0.559]\n"
          ]
        },
        {
          "name": "stdout",
          "output_type": "stream",
          "text": [
            "Train Epoch: 80 \tLoss: 0.535383\n",
            "Validation set: Average loss: 0.3829, Accuracy: 8708/10000 (87%)\n",
            "\n"
          ]
        },
        {
          "name": "stderr",
          "output_type": "stream",
          "text": [
            "Epoch 81: 100%|██████████| 313/313 [00:34<00:00,  9.11it/s, loss=0.524]\n"
          ]
        },
        {
          "name": "stdout",
          "output_type": "stream",
          "text": [
            "Train Epoch: 81 \tLoss: 0.518665\n",
            "Validation set: Average loss: 0.3776, Accuracy: 8745/10000 (87%)\n",
            "\n"
          ]
        },
        {
          "name": "stderr",
          "output_type": "stream",
          "text": [
            "Epoch 82: 100%|██████████| 313/313 [00:37<00:00,  8.45it/s, loss=0.751]\n"
          ]
        },
        {
          "name": "stdout",
          "output_type": "stream",
          "text": [
            "Train Epoch: 82 \tLoss: 0.517254\n",
            "Validation set: Average loss: 0.3760, Accuracy: 8747/10000 (87%)\n",
            "\n"
          ]
        },
        {
          "name": "stderr",
          "output_type": "stream",
          "text": [
            "Epoch 83: 100%|██████████| 313/313 [00:38<00:00,  8.18it/s, loss=0.735]\n"
          ]
        },
        {
          "name": "stdout",
          "output_type": "stream",
          "text": [
            "Train Epoch: 83 \tLoss: 0.524173\n",
            "Validation set: Average loss: 0.3749, Accuracy: 8750/10000 (88%)\n",
            "\n"
          ]
        },
        {
          "name": "stderr",
          "output_type": "stream",
          "text": [
            "Epoch 84: 100%|██████████| 313/313 [00:38<00:00,  8.13it/s, loss=0.398]\n"
          ]
        },
        {
          "name": "stdout",
          "output_type": "stream",
          "text": [
            "Train Epoch: 84 \tLoss: 0.511295\n",
            "Validation set: Average loss: 0.3733, Accuracy: 8761/10000 (88%)\n",
            "\n"
          ]
        },
        {
          "name": "stderr",
          "output_type": "stream",
          "text": [
            "Epoch 85: 100%|██████████| 313/313 [00:45<00:00,  6.85it/s, loss=0.573]\n"
          ]
        },
        {
          "name": "stdout",
          "output_type": "stream",
          "text": [
            "Train Epoch: 85 \tLoss: 0.514605\n",
            "Validation set: Average loss: 0.3716, Accuracy: 8741/10000 (87%)\n",
            "\n"
          ]
        },
        {
          "name": "stderr",
          "output_type": "stream",
          "text": [
            "Epoch 86: 100%|██████████| 313/313 [00:40<00:00,  7.70it/s, loss=0.411]\n"
          ]
        },
        {
          "name": "stdout",
          "output_type": "stream",
          "text": [
            "Train Epoch: 86 \tLoss: 0.514855\n",
            "Validation set: Average loss: 0.3726, Accuracy: 8763/10000 (88%)\n",
            "\n"
          ]
        },
        {
          "name": "stderr",
          "output_type": "stream",
          "text": [
            "Epoch 87: 100%|██████████| 313/313 [00:39<00:00,  7.96it/s, loss=0.51] \n"
          ]
        },
        {
          "name": "stdout",
          "output_type": "stream",
          "text": [
            "Train Epoch: 87 \tLoss: 0.515342\n",
            "Validation set: Average loss: 0.3734, Accuracy: 8763/10000 (88%)\n",
            "\n"
          ]
        },
        {
          "name": "stderr",
          "output_type": "stream",
          "text": [
            "Epoch 88: 100%|██████████| 313/313 [00:37<00:00,  8.31it/s, loss=0.523]\n"
          ]
        },
        {
          "name": "stdout",
          "output_type": "stream",
          "text": [
            "Train Epoch: 88 \tLoss: 0.509343\n",
            "Validation set: Average loss: 0.3744, Accuracy: 8745/10000 (87%)\n",
            "\n"
          ]
        },
        {
          "name": "stderr",
          "output_type": "stream",
          "text": [
            "Epoch 89: 100%|██████████| 313/313 [00:38<00:00,  8.17it/s, loss=0.486]\n"
          ]
        },
        {
          "name": "stdout",
          "output_type": "stream",
          "text": [
            "Train Epoch: 89 \tLoss: 0.510812\n",
            "Validation set: Average loss: 0.3768, Accuracy: 8739/10000 (87%)\n",
            "\n"
          ]
        },
        {
          "name": "stderr",
          "output_type": "stream",
          "text": [
            "Epoch 90: 100%|██████████| 313/313 [00:38<00:00,  8.24it/s, loss=0.724]\n"
          ]
        },
        {
          "name": "stdout",
          "output_type": "stream",
          "text": [
            "Train Epoch: 90 \tLoss: 0.511894\n",
            "Validation set: Average loss: 0.3764, Accuracy: 8770/10000 (88%)\n",
            "\n"
          ]
        },
        {
          "name": "stderr",
          "output_type": "stream",
          "text": [
            "Epoch 91: 100%|██████████| 313/313 [00:38<00:00,  8.13it/s, loss=0.606]\n"
          ]
        },
        {
          "name": "stdout",
          "output_type": "stream",
          "text": [
            "Train Epoch: 91 \tLoss: 0.509916\n",
            "Validation set: Average loss: 0.3757, Accuracy: 8752/10000 (88%)\n",
            "\n"
          ]
        },
        {
          "name": "stderr",
          "output_type": "stream",
          "text": [
            "Epoch 92: 100%|██████████| 313/313 [00:37<00:00,  8.30it/s, loss=0.543]\n"
          ]
        },
        {
          "name": "stdout",
          "output_type": "stream",
          "text": [
            "Train Epoch: 92 \tLoss: 0.507774\n",
            "Validation set: Average loss: 0.3749, Accuracy: 8767/10000 (88%)\n",
            "\n"
          ]
        },
        {
          "name": "stderr",
          "output_type": "stream",
          "text": [
            "Epoch 93: 100%|██████████| 313/313 [00:37<00:00,  8.29it/s, loss=0.686]\n"
          ]
        },
        {
          "name": "stdout",
          "output_type": "stream",
          "text": [
            "Train Epoch: 93 \tLoss: 0.515400\n",
            "Validation set: Average loss: 0.3716, Accuracy: 8755/10000 (88%)\n",
            "\n"
          ]
        },
        {
          "name": "stderr",
          "output_type": "stream",
          "text": [
            "Epoch 94: 100%|██████████| 313/313 [00:38<00:00,  8.16it/s, loss=0.422]\n"
          ]
        },
        {
          "name": "stdout",
          "output_type": "stream",
          "text": [
            "Train Epoch: 94 \tLoss: 0.509891\n",
            "Validation set: Average loss: 0.3738, Accuracy: 8732/10000 (87%)\n",
            "\n"
          ]
        },
        {
          "name": "stderr",
          "output_type": "stream",
          "text": [
            "Epoch 95: 100%|██████████| 313/313 [00:38<00:00,  8.12it/s, loss=0.571]\n"
          ]
        },
        {
          "name": "stdout",
          "output_type": "stream",
          "text": [
            "Train Epoch: 95 \tLoss: 0.507204\n",
            "Validation set: Average loss: 0.3734, Accuracy: 8774/10000 (88%)\n",
            "\n"
          ]
        },
        {
          "name": "stderr",
          "output_type": "stream",
          "text": [
            "Epoch 96: 100%|██████████| 313/313 [00:38<00:00,  8.09it/s, loss=0.522]\n"
          ]
        },
        {
          "name": "stdout",
          "output_type": "stream",
          "text": [
            "Train Epoch: 96 \tLoss: 0.508254\n",
            "Validation set: Average loss: 0.3760, Accuracy: 8769/10000 (88%)\n",
            "\n"
          ]
        },
        {
          "name": "stderr",
          "output_type": "stream",
          "text": [
            "Epoch 97: 100%|██████████| 313/313 [00:38<00:00,  8.10it/s, loss=0.483]\n"
          ]
        },
        {
          "name": "stdout",
          "output_type": "stream",
          "text": [
            "Train Epoch: 97 \tLoss: 0.500837\n",
            "Validation set: Average loss: 0.3812, Accuracy: 8744/10000 (87%)\n",
            "\n"
          ]
        },
        {
          "name": "stderr",
          "output_type": "stream",
          "text": [
            "Epoch 98: 100%|██████████| 313/313 [00:38<00:00,  8.06it/s, loss=0.514]\n"
          ]
        },
        {
          "name": "stdout",
          "output_type": "stream",
          "text": [
            "Train Epoch: 98 \tLoss: 0.511786\n",
            "Validation set: Average loss: 0.3733, Accuracy: 8782/10000 (88%)\n",
            "\n"
          ]
        },
        {
          "name": "stderr",
          "output_type": "stream",
          "text": [
            "Epoch 99: 100%|██████████| 313/313 [00:37<00:00,  8.31it/s, loss=0.585]\n"
          ]
        },
        {
          "name": "stdout",
          "output_type": "stream",
          "text": [
            "Train Epoch: 99 \tLoss: 0.502171\n",
            "Validation set: Average loss: 0.3762, Accuracy: 8758/10000 (88%)\n",
            "\n"
          ]
        },
        {
          "name": "stderr",
          "output_type": "stream",
          "text": [
            "Epoch 100: 100%|██████████| 313/313 [00:38<00:00,  8.12it/s, loss=0.505]\n"
          ]
        },
        {
          "name": "stdout",
          "output_type": "stream",
          "text": [
            "Train Epoch: 100 \tLoss: 0.504298\n",
            "Validation set: Average loss: 0.3733, Accuracy: 8777/10000 (88%)\n",
            "\n",
            "Traning and Testing total excution time is: 3687.7532198429108 seconds \n",
            "Test set: Average loss: 0.3895, Accuracy: 8724/10000 (87%)\n",
            "\n"
          ]
        },
        {
          "data": {
            "image/png": "[encoded data removed]",
            "text/plain": [
              "<Figure size 1000x500 with 1 Axes>"
            ]
          },
          "metadata": {},
          "output_type": "display_data"
        },
        {
          "data": {
            "image/png": "[encoded data removed]",
            "text/plain": [
              "<Figure size 1000x500 with 1 Axes>"
            ]
          },
          "metadata": {},
          "output_type": "display_data"
        },
        {
          "name": "stdout",
          "output_type": "stream",
          "text": [
            "Training complete.\n",
            "Model saved as cifar_mynet_final.pt\n",
            "Loss and accuracy plots saved as loss_fig.png and accuracy_fig.png\n"
          ]
        }
      ],
      "source": [
        "main()"
      ]
    },
    {
      "cell_type": "markdown",
      "metadata": {
        "id": "rNUHAgmUScLb"
      },
      "source": []
    },
    {
      "cell_type": "code",
      "execution_count": 16,
      "metadata": {},
      "outputs": [
        {
          "name": "stdout",
          "output_type": "stream",
          "text": [
            "==> Preparing data..\n",
            "Classification Report:\n",
            "              precision    recall  f1-score   support\n",
            "\n",
            "    airplane       0.88      0.90      0.89      1000\n",
            "  automobile       0.95      0.93      0.94      1000\n",
            "        bird       0.84      0.79      0.81      1000\n",
            "         cat       0.74      0.73      0.74      1000\n",
            "        deer       0.84      0.89      0.86      1000\n",
            "         dog       0.79      0.80      0.80      1000\n",
            "        frog       0.89      0.92      0.90      1000\n",
            "       horse       0.92      0.90      0.91      1000\n",
            "        ship       0.93      0.93      0.93      1000\n",
            "       truck       0.93      0.93      0.93      1000\n",
            "\n",
            "    accuracy                           0.87     10000\n",
            "   macro avg       0.87      0.87      0.87     10000\n",
            "weighted avg       0.87      0.87      0.87     10000\n",
            "\n"
          ]
        },
        {
          "data": {
            "image/png": "[encoded data removed]",
            "text/plain": [
              "<Figure size 1000x800 with 2 Axes>"
            ]
          },
          "metadata": {},
          "output_type": "display_data"
        }
      ],
      "source": [
        "from sklearn.metrics import classification_report, confusion_matrix\n",
        "import seaborn as sns\n",
        "\n",
        "# Load the saved model\n",
        "device = torch.device(\"mps\" if torch.backends.mps.is_available() else \"cuda\" if torch.cuda.is_available() else \"cpu\")\n",
        "model = MyNet().to(device)\n",
        "model.load_state_dict(torch.load(\"cifar_mynet_final.pt\", map_location=device))\n",
        "model.eval()\n",
        "\n",
        "# Prepare test data\n",
        "_, _, test_loader = data_download_and_preprocess(batch_size=100, validation_size=0.2)\n",
        "\n",
        "# Collect predictions and true labels\n",
        "all_preds = []\n",
        "all_targets = []\n",
        "\n",
        "with torch.no_grad():\n",
        "    for data, target in test_loader:\n",
        "        data, target = data.to(device), target.to(device)\n",
        "        output = model(data)\n",
        "        preds = output.argmax(dim=1)\n",
        "        all_preds.extend(preds.cpu().numpy())\n",
        "        all_targets.extend(target.cpu().numpy())\n",
        "\n",
        "# Generate classification report\n",
        "print(\"Classification Report:\")\n",
        "print(classification_report(all_targets, all_preds, target_names=test_loader.dataset.classes))\n",
        "\n",
        "# Generate confusion matrix\n",
        "conf_matrix = confusion_matrix(all_targets, all_preds)\n",
        "plt.figure(figsize=(10, 8))\n",
        "sns.heatmap(conf_matrix, annot=True, fmt=\"d\", cmap=\"Blues\", xticklabels=test_loader.dataset.classes, yticklabels=test_loader.dataset.classes)\n",
        "plt.xlabel(\"Predicted Labels\")\n",
        "plt.ylabel(\"True Labels\")\n",
        "plt.title(\"Confusion Matrix\")\n",
        "plt.show()"
      ]
    }
  ],
  "metadata": {
    "accelerator": "GPU",
    "colab": {
      "gpuType": "T4",
      "provenance": []
    },
    "kernelspec": {
      "display_name": "mlKernel",
      "language": "python",
      "name": "mlkernel"
    },
    "language_info": {
      "codemirror_mode": {
        "name": "ipython",
        "version": 3
      },
      "file_extension": ".py",
      "mimetype": "text/x-python",
      "name": "python",
      "nbconvert_exporter": "python",
      "pygments_lexer": "ipython3",
      "version": "3.12.2"
    }
  },
  "nbformat": 4,
  "nbformat_minor": 0
}
